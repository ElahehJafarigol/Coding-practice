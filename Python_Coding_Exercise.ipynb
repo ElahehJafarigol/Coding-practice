{
  "nbformat": 4,
  "nbformat_minor": 0,
  "metadata": {
    "colab": {
      "provenance": [],
      "collapsed_sections": [
        "QwOk3ipzTjts",
        "cUxNJRsHT0Sb",
        "fssLGVjD8Oew",
        "ocZtk5uouEFG",
        "zt-mCLEdE8hw",
        "aFI-HStVvazJ",
        "8fMfXf_uwFxL",
        "5i0K45GEwQvZ",
        "GEzK17yEwYVI",
        "gRiGLyEOw2rr",
        "huSJ_zbhxRex",
        "2RQ5_wBBx0cI"
      ],
      "toc_visible": true,
      "authorship_tag": "ABX9TyNBayxpBkzl/HPqXtGh/CAx",
      "include_colab_link": true
    },
    "kernelspec": {
      "name": "python3",
      "display_name": "Python 3"
    },
    "language_info": {
      "name": "python"
    }
  },
  "cells": [
    {
      "cell_type": "markdown",
      "metadata": {
        "id": "view-in-github",
        "colab_type": "text"
      },
      "source": [
        "<a href=\"https://colab.research.google.com/github/ElahehJafarigol/Coding-practice/blob/main/Python_Coding_Exercise.ipynb\" target=\"_parent\"><img src=\"https://colab.research.google.com/assets/colab-badge.svg\" alt=\"Open In Colab\"/></a>"
      ]
    },
    {
      "cell_type": "markdown",
      "source": [
        "### Pythos Basics\n"
      ],
      "metadata": {
        "id": "QwOk3ipzTjts"
      }
    },
    {
      "cell_type": "markdown",
      "source": [
        "[Python Basic Exercise for Beginners](https://pynative.com/python-basic-exercise-for-beginners/)"
      ],
      "metadata": {
        "id": "xG-w3m1jQrZV"
      }
    },
    {
      "cell_type": "code",
      "source": [
        "# Import libraries\n",
        "import numpy as np"
      ],
      "metadata": {
        "id": "yw3uUo7tRWWv"
      },
      "execution_count": 84,
      "outputs": []
    },
    {
      "cell_type": "markdown",
      "source": [
        "Exercise 1: Calculate the multiplication and sum of two numbers\n",
        "\n",
        "Given two integer numbers, return their product only if the product is equal to or lower than 1000. Otherwise, return their sum."
      ],
      "metadata": {
        "id": "fo2uW5ISQ5IA"
      }
    },
    {
      "cell_type": "code",
      "execution_count": null,
      "metadata": {
        "id": "Ipnbub6mQiNm"
      },
      "outputs": [],
      "source": [
        "def function(num1, num2):\n",
        "    product = np.dot(num1, num2)\n",
        "    if product <= 1000:\n",
        "        res = product\n",
        "    else:\n",
        "        res = num1 + num2\n",
        "    return print(f\"The result is: {res}\")\n",
        "\n",
        "function(20, 30)\n",
        "function(40, 30)\n",
        "function(150, 1000)"
      ]
    },
    {
      "cell_type": "markdown",
      "source": [
        "Exercise 2: Print the sum of the current number and the previous number\n",
        "\n",
        "Write a program to iterate the first 10 numbers, and in each iteration, print the sum of the current and previous number."
      ],
      "metadata": {
        "id": "690AeiFLU97r"
      }
    },
    {
      "cell_type": "code",
      "source": [
        "def function(nums: list):\n",
        "    if len(nums) < 10:\n",
        "        print(\"The list is too short\")\n",
        "        return\n",
        "\n",
        "    print(\"Printing current and previous number and their sum in a range(10)\")\n",
        "    for i in range(10):\n",
        "        curr_sum = 0\n",
        "        if i == 0:\n",
        "            curr_sum += nums[i]\n",
        "            print(f\"Current number {nums[i]} Previous number {0} Sum {curr_sum}\")\n",
        "\n",
        "\n",
        "        else:\n",
        "            curr_sum += nums[i]\n",
        "            print(f\"Current number {nums[i]} Previous numebr {nums[i - 1]} Sum {curr_sum}\")\n",
        "\n",
        "    return\n",
        "function([1, 2,3 ])\n",
        "function([0, 1, 2, 3, 4, 5, 6, 7, 8, 9])\n",
        "function([])\n",
        "function([0, 1, 2, 3, 4, 5, 6, 7, 8, 9, 10, 11, 12, 13, 14, 15])"
      ],
      "metadata": {
        "id": "F-q4IpWiUjIW"
      },
      "execution_count": null,
      "outputs": []
    },
    {
      "cell_type": "markdown",
      "source": [
        "Exercise 3: Print characters from a string that are present at an even index number\n",
        "\n",
        "Write a program to accept a string from the user and display characters that are present at an even index number.\n",
        "\n",
        "For example, str = \"pynative\" so you should display ‘p’, ‘n’, ‘t’, ‘v’."
      ],
      "metadata": {
        "id": "N7QCA_kVY7Ly"
      }
    },
    {
      "cell_type": "code",
      "source": [
        "def function(string):\n",
        "    for i in range(len(string)):\n",
        "        if i % 2 == 0:\n",
        "            print(string[i])\n",
        "    return\n",
        "\n",
        "function(\"pynative\")\n"
      ],
      "metadata": {
        "id": "AweR_UBiZa3o"
      },
      "execution_count": null,
      "outputs": []
    },
    {
      "cell_type": "markdown",
      "source": [
        "Exercise 4: Remove first n characters from a string\n",
        "\n",
        "Write a program to remove characters from a string starting from zero up to n and return a new string.\n",
        "\n",
        "For example:\n",
        "\n",
        "`remove_chars(\"pynative\", 4)` so output must be tive. Here, we need to remove the first four characters from a string.\n",
        "\n",
        "`remove_chars(\"pynative\", 2)` so output must be native. Here, we need to remove the first two characters from a string.\n",
        "\n",
        "Note: n must be less than the length of the string.\n",
        "\n",
        "\n"
      ],
      "metadata": {
        "id": "txFNF8_OsWWK"
      }
    },
    {
      "cell_type": "code",
      "source": [
        "def function(string, n):\n",
        "    ans = \"\"\n",
        "    for i in range(n, len(string)):\n",
        "        ans += string[i]\n",
        "    return print(ans)\n",
        "\n",
        "\n",
        "function(\"pynative\", 4)\n",
        "function(\"pynative\", 2)"
      ],
      "metadata": {
        "id": "QDcC1DWqse1Z"
      },
      "execution_count": null,
      "outputs": []
    },
    {
      "cell_type": "markdown",
      "source": [
        "Exercise 5: Check if the first and last number of a list is the same\n",
        "\n",
        "\n",
        "Write a function to return True if the first and last number of a given list is same. If numbers are different then return False."
      ],
      "metadata": {
        "id": "Ocou5XJmuOqM"
      }
    },
    {
      "cell_type": "code",
      "source": [
        "def function(nums):\n",
        "    return nums[0] == nums[len(nums) - 1]\n",
        "\n",
        "print(function([10, 20, 30, 40, 10]))\n",
        "\n",
        "nums_y = [75, 65, 35, 75, 30]\n",
        "print(function([75, 65, 35, 75, 30]))"
      ],
      "metadata": {
        "id": "WrI5YiufuJvt"
      },
      "execution_count": null,
      "outputs": []
    },
    {
      "cell_type": "markdown",
      "source": [
        "Exercise 6: Display numbers divisible by 5 from a list\n",
        "\n",
        "Iterate the given list of numbers and print only those numbers which are divisible by 5"
      ],
      "metadata": {
        "id": "4GJqM8SrvqfQ"
      }
    },
    {
      "cell_type": "code",
      "source": [
        "# n = 5\n",
        "def function(nums: list, n):\n",
        "    if len(nums) == 0:\n",
        "        print(\"The list is empty.\")\n",
        "    for i in range(len(nums)):\n",
        "        if nums[i] % n == 0:\n",
        "            print(nums[i])\n",
        "    return\n",
        "\n",
        "function([10, 20, 33, 46, 55], 5)\n",
        "function([10, 20, 33, 46, 55], 3)\n",
        "function([], 5)"
      ],
      "metadata": {
        "id": "hpwQrMNn3-d-"
      },
      "execution_count": null,
      "outputs": []
    },
    {
      "cell_type": "markdown",
      "source": [
        "***Exercise 7: Return the count of a given substring from a string***\n",
        "\n",
        "Write a program to find how many times substring “Emma” appears in the given string."
      ],
      "metadata": {
        "id": "uNoA5rHE5EgY"
      }
    },
    {
      "cell_type": "code",
      "source": [
        "# Wrong answer\n",
        "def function(string, sub):\n",
        "    count = 0\n",
        "    curr_word = \"\"\n",
        "    for i in range(len(string)):\n",
        "        while i != \" \":\n",
        "            curr_word += string[i]\n",
        "\n",
        "            if len(curr_word) == len(sub):\n",
        "                for j in range(len(curr_word)):\n",
        "                    if curr_word[j] != sub[j]:\n",
        "                        curr_word = \"\"\n",
        "                    else:\n",
        "                        count += 1\n",
        "                        curr_word = \"\"\n",
        "\n",
        "            else:\n",
        "                curr_word = \"\"\n",
        "\n",
        "    return count\n",
        "\n",
        "# function(\"Emma is good developer. Emma is a writer\", \"Emma\")"
      ],
      "metadata": {
        "id": "uH6BPPK5-kMl"
      },
      "execution_count": null,
      "outputs": []
    },
    {
      "cell_type": "markdown",
      "source": [
        "Exercise 8: Print the following pattern\n",
        "\n",
        "1\n",
        "\n",
        "2 2\n",
        "\n",
        "3 3 3\n",
        "\n",
        "4 4 4 4\n",
        "\n",
        "5 5 5 5 5"
      ],
      "metadata": {
        "id": "ZttfnEJt-RCU"
      }
    },
    {
      "cell_type": "code",
      "source": [
        "# Follow up: Do I return for the given number or all the numbers prior to the given number as well?\n",
        "\n",
        "def function(num):\n",
        "    for n in range(num + 1):\n",
        "        ans = \"\"\n",
        "        for i in range(n):\n",
        "            ans += str(n)\n",
        "        print (\" \".join(ans))\n",
        "\n",
        "function(5)"
      ],
      "metadata": {
        "id": "vP_x03Pn-Qdn"
      },
      "execution_count": null,
      "outputs": []
    },
    {
      "cell_type": "markdown",
      "source": [
        "Exercise 9: Check Palindrome Number\n",
        "\n",
        "Write a program to check if the given number is a palindrome number.\n",
        "\n",
        "A palindrome number is a number that is the same after reverse. For example, 545, is the palindrome numbers"
      ],
      "metadata": {
        "id": "ozPIJRD3oSOg"
      }
    },
    {
      "cell_type": "code",
      "source": [
        "def function(num):\n",
        "    num_str = str(num)\n",
        "    left = 0\n",
        "    right = len(num_str)-1\n",
        "\n",
        "    while left <= right:\n",
        "        if num_str[left] != num_str[right]:\n",
        "            print(f\"Original number{num}\")\n",
        "            print(f\"No, given number is not palindrome number\")\n",
        "            return\n",
        "        left += 1\n",
        "        right -= 1\n",
        "    print(f\"Original number{num}\")\n",
        "    print(f\"Yes, given number is palindrome number\")\n",
        "    return\n",
        "\n",
        "function(1234)\n",
        "function(23432)\n",
        "function(1)\n",
        "function(234515432)"
      ],
      "metadata": {
        "id": "H_W3SrLNoR_R"
      },
      "execution_count": null,
      "outputs": []
    },
    {
      "cell_type": "code",
      "source": [
        "# Other solution:\n",
        "# Reverse the given number and save it in a different variable\n",
        "# Use the if condition to check if the original and reverse numbers are identical. If yes, return True.\n",
        "def palindrome(number):\n",
        "    print(\"original number\", number)\n",
        "    original_num = number\n",
        "\n",
        "    # reverse the given number\n",
        "    reverse_num = 0\n",
        "    while number > 0:\n",
        "        reminder = number % 10\n",
        "        reverse_num = (reverse_num * 10) + reminder\n",
        "        number = number // 10\n",
        "\n",
        "    # check numbers\n",
        "    if original_num == reverse_num:\n",
        "        print(\"Given number palindrome\")\n",
        "    else:\n",
        "        print(\"Given number is not palindrome\")\n",
        "\n",
        "palindrome(121)\n",
        "palindrome(125)\n"
      ],
      "metadata": {
        "id": "QJpZ2K2eq3H0"
      },
      "execution_count": null,
      "outputs": []
    },
    {
      "cell_type": "markdown",
      "source": [
        "Exercise 10: Create a new list from two list using the following condition\n",
        "\n",
        "Given two list of numbers, write a program to create a new list such that the new list should contain odd numbers from the first list and even numbers from the second list.\n"
      ],
      "metadata": {
        "id": "WChdD4hirWzP"
      }
    },
    {
      "cell_type": "code",
      "source": [
        "def function(list1, list2):\n",
        "    result = []\n",
        "\n",
        "    # Odd numbers from list 1\n",
        "    for i in range(len(list1)):\n",
        "        if list1[i] % 2 != 0:\n",
        "            result.append(list1[i])\n",
        "    for i in range(len(list2)):\n",
        "        if list2[i] % 2 == 0:\n",
        "            result.append(list2[i])\n",
        "    return result\n",
        "\n",
        "list1 = [10, 20, 25, 30, 35]\n",
        "list2 = [40, 50, 60, 75, 90]\n",
        "print(f\"Result list:{function(list1, list2)}\")\n",
        "\n",
        "\n",
        "list1 = [11, 12, 12, 34, 95]\n",
        "list2 = []\n",
        "print(f\"Result list:{function(list1, list2)}\")\n",
        "\n",
        "list1 = []\n",
        "list2 = [40, 50, 60, 75, 90]\n",
        "print(f\"Result list:{function(list1, list2)}\")\n",
        "\n",
        "# Follow up: Is the output list sorted?\n"
      ],
      "metadata": {
        "id": "QRmp4kt7rWRa"
      },
      "execution_count": null,
      "outputs": []
    },
    {
      "cell_type": "markdown",
      "source": [
        "Exercise 11: Write a Program to extract each digit from an integer in the reverse order.\n",
        "\n",
        "For example, If the given int is 7536, the output shall be “6 3 5 7“, with a space separating the digits."
      ],
      "metadata": {
        "id": "NXlsgrXCtWlW"
      }
    },
    {
      "cell_type": "code",
      "source": [
        "def function(num):\n",
        "    num_str = str(num)\n",
        "    output = \"\"\n",
        "    for i in num_str:\n",
        "        output = output + i + \" \"\n",
        "\n",
        "    return output\n",
        "\n",
        "print(f\"The output is {function(1234)}\")"
      ],
      "metadata": {
        "id": "SCF6sXtltbhM"
      },
      "execution_count": null,
      "outputs": []
    },
    {
      "cell_type": "markdown",
      "source": [
        "Exercise 12: Calculate income tax for the given income by adhering to the rules below\n",
        "\n",
        "Taxable Income\tRate\n",
        "\n",
        "First $10,000\t0\n",
        "\n",
        "Next $10,000\t10\n",
        "\n",
        "The remaining\t20\n"
      ],
      "metadata": {
        "id": "AbVII4twCtzF"
      }
    },
    {
      "cell_type": "code",
      "source": [
        "def function(income):\n",
        "    tax = 0\n",
        "    if income <= 10000:\n",
        "        tax = 0\n",
        "    elif 10000 < income <= 20000:\n",
        "        tax = (income - 10000) * 0.1\n",
        "    else:\n",
        "        tax = (10000*0.1) + ((income - 20000) * 0.2)\n",
        "    return tax\n",
        "\n",
        "print(\"The owed tax is:\", function(480000))"
      ],
      "metadata": {
        "id": "KedWgfW8C-s0"
      },
      "execution_count": null,
      "outputs": []
    },
    {
      "cell_type": "markdown",
      "source": [
        "Exercise 13: Print multiplication table from 1 to 10"
      ],
      "metadata": {
        "id": "dDwrQV0rE_3u"
      }
    },
    {
      "cell_type": "code",
      "source": [
        "def function(num):\n",
        "    for n in range(1, num + 1):\n",
        "        output = \"\"\n",
        "        for i in range(1, 11):\n",
        "            output += str(n*i) + \" \"\n",
        "        print(output)\n",
        "\n",
        "function(10)"
      ],
      "metadata": {
        "id": "URrrq7ADE_iL"
      },
      "execution_count": null,
      "outputs": []
    },
    {
      "cell_type": "markdown",
      "source": [
        "Exercise 14: Print a downward Half-Pyramid Pattern of Star (asterisk)"
      ],
      "metadata": {
        "id": "5NYqjg5kNSjn"
      }
    },
    {
      "cell_type": "code",
      "source": [
        "def function(length):\n",
        "    output = \"\"\n",
        "    for i in range(length, 0, -1):\n",
        "        output = i*(\"*\" + \" \")\n",
        "        print(output)\n",
        "\n",
        "\n",
        "function(1)\n",
        "print(\"=============\")\n",
        "function(2)\n",
        "print(\"=============\")\n",
        "function(0)\n",
        "print(\"=============\")\n",
        "function(7)"
      ],
      "metadata": {
        "id": "aZ_x9GDnNSDl"
      },
      "execution_count": null,
      "outputs": []
    },
    {
      "cell_type": "markdown",
      "source": [
        "Exercise 15: Write a function called exponent(base, exp) that returns an int value of base raises to the power of exp.\n",
        "\n",
        "Note here exp is a non-negative integer, and the base is an integer."
      ],
      "metadata": {
        "id": "1A2Zo84RPy8W"
      }
    },
    {
      "cell_type": "code",
      "source": [
        "def function(base, exp):\n",
        "    if exp < 0:\n",
        "        return \"The exp should be non-negative\"\n",
        "\n",
        "    elif exp == 0:\n",
        "        print(f\"{base} to the power of {exp}: 1\")\n",
        "\n",
        "    else:\n",
        "        output = 1\n",
        "        for i in range(exp):\n",
        "            output *= base\n",
        "        print(f\"{base} to the power of {exp}: {output}\")\n",
        "\n",
        "function(2, 5)\n",
        "function(5, 4)\n",
        "function(8, 2)"
      ],
      "metadata": {
        "id": "WkRFnAMIPyw_"
      },
      "execution_count": null,
      "outputs": []
    },
    {
      "cell_type": "markdown",
      "source": [
        "### Python Functions"
      ],
      "metadata": {
        "id": "cUxNJRsHT0Sb"
      }
    },
    {
      "cell_type": "markdown",
      "source": [
        "[Python Functions Exercise](https://pynative.com/python-functions-exercise-with-solutions/)\n"
      ],
      "metadata": {
        "id": "t3BuiCV3TR5J"
      }
    },
    {
      "cell_type": "markdown",
      "source": [
        "Exercise 1: Create a function in Python\n",
        "\n",
        "Write a program to create a function that takes two arguments, name and age, and print their value."
      ],
      "metadata": {
        "id": "08hySP3eUKC1"
      }
    },
    {
      "cell_type": "code",
      "source": [
        "def function(name, age):\n",
        "    print(f\"Name: {name}, age: {age}\")\n",
        "\n",
        "function(\"Elaheh\", 34)"
      ],
      "metadata": {
        "colab": {
          "base_uri": "https://localhost:8080/"
        },
        "id": "TXJgAkXIYgWX",
        "outputId": "10ef9662-b865-4520-bc9e-e72b30cd7205"
      },
      "execution_count": null,
      "outputs": [
        {
          "output_type": "stream",
          "name": "stdout",
          "text": [
            "Name: Elaheh, age: 34\n"
          ]
        }
      ]
    },
    {
      "cell_type": "markdown",
      "source": [
        "Exercise 2: Create a function with variable length of arguments\n",
        "\n",
        "Write a program to create function func1() to accept a variable length of arguments and print their value.\n",
        "\n",
        "Note: Create a function in such a way that we can pass any number of arguments to this function, and the function should process them and display each argument’s value."
      ],
      "metadata": {
        "id": "DPDwxgs2ZGew"
      }
    },
    {
      "cell_type": "code",
      "source": [
        " def function(*args):\n",
        "    print(\"Printing values\")\n",
        "    for x in args:\n",
        "        print(x)\n",
        "    return\n",
        "\n",
        "function(20)\n",
        "function(3, 4, 5)"
      ],
      "metadata": {
        "colab": {
          "base_uri": "https://localhost:8080/"
        },
        "id": "w6HaNTfqZIB_",
        "outputId": "cc6b91dd-3537-40db-e200-5aeb88d395d6"
      },
      "execution_count": 83,
      "outputs": [
        {
          "output_type": "stream",
          "name": "stdout",
          "text": [
            "Printing values\n",
            "20\n",
            "Printing values\n",
            "3\n",
            "4\n",
            "5\n"
          ]
        }
      ]
    },
    {
      "cell_type": "markdown",
      "source": [
        "Exercise 3: Return multiple values from a function\n",
        "\n",
        "Write a program to create function calculation() such that it can accept two variables and calculate addition and subtraction. Also, it must return both addition and subtraction in a single return call."
      ],
      "metadata": {
        "id": "ZI8aW6FRq9HO"
      }
    },
    {
      "cell_type": "code",
      "source": [
        "def function(num1, num2):\n",
        "    addition = num1 + num2\n",
        "    subtraction = np.absolute(num1 - num2)\n",
        "\n",
        "    print(addition, \",\", subtraction)\n",
        "\n",
        "function(40, 50)"
      ],
      "metadata": {
        "colab": {
          "base_uri": "https://localhost:8080/"
        },
        "id": "OB3FOft-sWF3",
        "outputId": "a42d979e-8c5e-4a30-a63c-55363bf85f88"
      },
      "execution_count": null,
      "outputs": [
        {
          "output_type": "stream",
          "name": "stdout",
          "text": [
            "90 , 10\n"
          ]
        }
      ]
    },
    {
      "cell_type": "markdown",
      "source": [
        "Exercise 4: Create a function with a default argument\n",
        "\n",
        "Write a program to create a function show_employee() using the following conditions.\n",
        "\n",
        "It should accept the employee’s name and salary and display both.\n",
        "If the salary is missing in the function call then assign default value 9000 to salary"
      ],
      "metadata": {
        "id": "9al8m5yJu2Yo"
      }
    },
    {
      "cell_type": "code",
      "source": [
        "def function(name, salary = 9000):\n",
        "    print(f\"Name: {name}, salary: {salary}\")\n",
        "\n",
        "function(\"Ben\", 12000)\n",
        "function(\"Jess\")"
      ],
      "metadata": {
        "colab": {
          "base_uri": "https://localhost:8080/"
        },
        "id": "ZJ5hQIHAu1s7",
        "outputId": "037051db-7bbe-4cb2-e45a-10f134af5e22"
      },
      "execution_count": null,
      "outputs": [
        {
          "output_type": "stream",
          "name": "stdout",
          "text": [
            "Name: Ben, salary: 12000\n",
            "Name: Jess, salary: 9000\n"
          ]
        }
      ]
    },
    {
      "cell_type": "markdown",
      "source": [
        "Exercise 5: Create an inner function to calculate the addition in the following way"
      ],
      "metadata": {
        "id": "EwIF6BSqvYy7"
      }
    },
    {
      "cell_type": "code",
      "source": [
        "def outer_function(num1, num2):\n",
        "    def inner_function(num1, num2):\n",
        "        return num1 + num2\n",
        "    return inner_function(num1, num2) + 5\n",
        "\n",
        "print(f\"Final result is {outer_function(3, 4)}\")"
      ],
      "metadata": {
        "colab": {
          "base_uri": "https://localhost:8080/"
        },
        "id": "gBtE3HQOvZfv",
        "outputId": "92c06417-089e-467b-a524-ff398de992c3"
      },
      "execution_count": null,
      "outputs": [
        {
          "output_type": "stream",
          "name": "stdout",
          "text": [
            "Final result is 12\n"
          ]
        }
      ]
    },
    {
      "cell_type": "markdown",
      "source": [
        "**Exercise 6: Create a recursive function**\n",
        "\n",
        "Write a program to create a recursive function to calculate the sum of numbers from 0 to 10.\n",
        "\n",
        "A recursive function is a function that calls itself again and again.\n",
        "\n",
        "Expected Output:"
      ],
      "metadata": {
        "id": "H60jqiUzD7L6"
      }
    },
    {
      "cell_type": "code",
      "source": [
        "def rec_function(num):\n",
        "    if num == 0:\n",
        "        return 0\n",
        "    else:\n",
        "        return num + rec_function(num-1)\n",
        "\n",
        "print(rec_function(6))"
      ],
      "metadata": {
        "colab": {
          "base_uri": "https://localhost:8080/"
        },
        "id": "PUGJZzt9D9dI",
        "outputId": "611883a8-aeaf-4ba1-e417-051bc8e066d6"
      },
      "execution_count": null,
      "outputs": [
        {
          "output_type": "stream",
          "name": "stdout",
          "text": [
            "21\n"
          ]
        }
      ]
    },
    {
      "cell_type": "markdown",
      "source": [
        "Exercise 7: Assign a different name to function and call it through the new name"
      ],
      "metadata": {
        "id": "pp_mOTWfLYjj"
      }
    },
    {
      "cell_type": "code",
      "source": [
        "def display_student(name, age):\n",
        "    print(name, age)\n",
        "\n",
        "display_student(\"Emma\", 26)\n",
        "\n",
        "show_student = display_student\n",
        "show_student(\"Elaheh\", 34)"
      ],
      "metadata": {
        "colab": {
          "base_uri": "https://localhost:8080/"
        },
        "id": "jq0lXqN04MAS",
        "outputId": "2b16c629-b903-4a09-d7a1-eded4b02c6ef"
      },
      "execution_count": null,
      "outputs": [
        {
          "output_type": "stream",
          "name": "stdout",
          "text": [
            "Emma 26\n",
            "Elaheh 34\n"
          ]
        }
      ]
    },
    {
      "cell_type": "markdown",
      "source": [
        "Exercise 8: Generate a Python list of all the even numbers between 4 to 30"
      ],
      "metadata": {
        "id": "94RQRaxV4dFL"
      }
    },
    {
      "cell_type": "code",
      "source": [
        "# Follow up: Inclusinve of 30 or not?\n",
        "\n",
        "def function(start, end):\n",
        "    output = []\n",
        "    for i in range(start, end):\n",
        "        if i % 2 == 0:\n",
        "            output.append(i)\n",
        "    return output\n",
        "\n",
        "function(4, 30)"
      ],
      "metadata": {
        "colab": {
          "base_uri": "https://localhost:8080/"
        },
        "id": "b83ShKPC4geA",
        "outputId": "0d53a2ee-391e-41ab-cbaf-4aeec6987e9d"
      },
      "execution_count": null,
      "outputs": [
        {
          "output_type": "execute_result",
          "data": {
            "text/plain": [
              "[4, 6, 8, 10, 12, 14, 16, 18, 20, 22, 24, 26, 28, 30]"
            ]
          },
          "metadata": {},
          "execution_count": 6
        }
      ]
    },
    {
      "cell_type": "markdown",
      "source": [
        "Exercise 9: Find the largest item from a given list"
      ],
      "metadata": {
        "id": "4nxxxIOP66lh"
      }
    },
    {
      "cell_type": "code",
      "source": [
        "def function(nums):\n",
        "    return max(nums)\n",
        "\n",
        "x = [4, 6, 8, 24, 12, 2]\n",
        "function(x)"
      ],
      "metadata": {
        "colab": {
          "base_uri": "https://localhost:8080/"
        },
        "id": "VtPyBr4v6-pu",
        "outputId": "a9f4afe7-dff4-4d02-b2d1-7aac2c688702"
      },
      "execution_count": null,
      "outputs": [
        {
          "output_type": "execute_result",
          "data": {
            "text/plain": [
              "24"
            ]
          },
          "metadata": {},
          "execution_count": 8
        }
      ]
    },
    {
      "cell_type": "markdown",
      "source": [
        "### Python Data Structure"
      ],
      "metadata": {
        "id": "fssLGVjD8Oew"
      }
    },
    {
      "cell_type": "markdown",
      "source": [
        "\n",
        "[Python Data Structure Exercise for Beginners](https://pynative.com/python-data-structure-exercise-for-beginners/)"
      ],
      "metadata": {
        "id": "CsZBrLGU8ZvC"
      }
    },
    {
      "cell_type": "code",
      "source": [
        "# Follow up: what is the order of the output list?\n",
        "def function(nums1, nums2):\n",
        "    output_1 = []\n",
        "    output_2 = []\n",
        "    # Odd index from list 1\n",
        "    for i in range(len(nums1)):\n",
        "        if i % 2 != 0:\n",
        "            output_1.append(nums1[i])\n",
        "    print(\"Element at odd-index positions from list one\")\n",
        "    print(output_1)\n",
        "\n",
        "    # Even index from list 2\n",
        "    for i in range(len(nums2)):\n",
        "        if i % 2 == 0:\n",
        "            output_2.append(nums2[i])\n",
        "    print(\"Element at even-index positions from list two\")\n",
        "    print(output_2)\n",
        "\n",
        "    print(\"Printing the final third list\")\n",
        "    print(output_1 + output_2)\n",
        "\n",
        "l1 = [3, 6, 9, 12, 15, 18, 21]\n",
        "l2 = [4, 8, 12, 16, 20, 24, 28]\n",
        "function(l1, l2)"
      ],
      "metadata": {
        "colab": {
          "base_uri": "https://localhost:8080/"
        },
        "id": "Ynd_wxIl8ZOX",
        "outputId": "733b5b01-fb65-4b60-d1ef-47546e8b0b51"
      },
      "execution_count": null,
      "outputs": [
        {
          "output_type": "stream",
          "name": "stdout",
          "text": [
            "Element at odd-index positions from list one\n",
            "[6, 12, 18]\n",
            "Element at even-index positions from list two\n",
            "[4, 12, 20, 28]\n",
            "Printing the final third list\n",
            "[6, 12, 18, 4, 12, 20, 28]\n"
          ]
        }
      ]
    },
    {
      "cell_type": "markdown",
      "source": [
        "Exercise 2: Remove and add item in a list\n",
        "\n",
        "Write a program to remove the item present at index 4 and add it to the 2nd position and at the end of the list."
      ],
      "metadata": {
        "id": "TbTcGE4BaKpj"
      }
    },
    {
      "cell_type": "code",
      "source": [
        "def function(nums, idx, pos):\n",
        "    temp = nums.pop(idx)\n",
        "    print(f\"List After removing element at index {idx} {nums}\")\n",
        "\n",
        "    nums.insert(pos, temp)\n",
        "    print(f\"List After adding element at index {pos} {nums}\")\n",
        "\n",
        "    nums.append(temp)\n",
        "    print(\"List After adding element at last\", nums)\n",
        "\n",
        "l = [34, 54, 67, 89, 11, 43, 94]\n",
        "function(l, 4, 2)"
      ],
      "metadata": {
        "colab": {
          "base_uri": "https://localhost:8080/"
        },
        "id": "fM84ueWjaL-Z",
        "outputId": "d0aa94e3-fcee-4ce4-e474-54d3ed2d5379"
      },
      "execution_count": null,
      "outputs": [
        {
          "output_type": "stream",
          "name": "stdout",
          "text": [
            "List After removing element at index 4 [34, 54, 67, 89, 43, 94]\n",
            "List After adding element at index 2 [34, 54, 11, 67, 89, 43, 94]\n",
            "List After adding element at last [34, 54, 11, 67, 89, 43, 94, 11]\n"
          ]
        }
      ]
    },
    {
      "cell_type": "markdown",
      "source": [
        "*Exercise 3:* Slice list into 3 equal chunks and reverse each chunk"
      ],
      "metadata": {
        "id": "nVH7nc39Thei"
      }
    },
    {
      "cell_type": "code",
      "source": [
        "def function(nums_list, num):\n",
        "    length = len(nums_list)\n",
        "    chunk_size = int(length/num)\n",
        "    start = 0\n",
        "    end = chunk_size\n",
        "\n",
        "    for i in range(num):\n",
        "        indexes = slice(start, end)\n",
        "        chunk = nums_list[indexes]\n",
        "\n",
        "        print(f\"Chunk {i} {chunk}\")\n",
        "        reversed_chunk= chunk[::-1]\n",
        "        print(f\"After reversing it {reversed_chunk}\")\n",
        "\n",
        "        start = end\n",
        "        end += chunk_size\n",
        "\n",
        "sample_list = [11, 45, 8, 23, 14, 12, 78, 45, 89]\n",
        "function(sample_list, 3)"
      ],
      "metadata": {
        "colab": {
          "base_uri": "https://localhost:8080/"
        },
        "id": "IiJh86viTiBi",
        "outputId": "9cf8c68e-d3b9-4177-a6ea-1fa11c2df84e"
      },
      "execution_count": null,
      "outputs": [
        {
          "output_type": "stream",
          "name": "stdout",
          "text": [
            "Chunk 0 [11, 45, 8]\n",
            "After reversing it [8, 45, 11]\n",
            "Chunk 1 [23, 14, 12]\n",
            "After reversing it [12, 14, 23]\n",
            "Chunk 2 [78, 45, 89]\n",
            "After reversing it [89, 45, 78]\n"
          ]
        }
      ]
    },
    {
      "cell_type": "markdown",
      "source": [
        "Exercise 4: Count the occurrence of each element from a list\n",
        "\n",
        "Write a program to iterate a given list and count the occurrence of each element and create a dictionary to show the count of each element."
      ],
      "metadata": {
        "id": "7dCL6D0OZiUx"
      }
    },
    {
      "cell_type": "code",
      "source": [
        "def function(nums_list):\n",
        "    counts = {}\n",
        "    for i in nums_list:\n",
        "        if i in counts.keys():\n",
        "            counts[i] += 1\n",
        "        else:\n",
        "            counts[i] = 1\n",
        "    return counts\n",
        "\n",
        "sample = sample_list = [11, 45, 8, 11, 23, 45, 23, 45, 89]\n",
        "count_dict = function(sample)\n",
        "print(\"The output is:\", count_dict)"
      ],
      "metadata": {
        "id": "YPbWqdiRZlgT",
        "colab": {
          "base_uri": "https://localhost:8080/"
        },
        "outputId": "c9e1ef31-e294-4372-b0d8-dc73a24397db"
      },
      "execution_count": null,
      "outputs": [
        {
          "output_type": "stream",
          "name": "stdout",
          "text": [
            "The output is: {11: 2, 45: 3, 8: 1, 23: 2, 89: 1}\n"
          ]
        }
      ]
    },
    {
      "cell_type": "markdown",
      "source": [
        "Exercise 5: Create a Python set such that it shows the element from both lists in a pair"
      ],
      "metadata": {
        "id": "dT9pfuba9ckR"
      }
    },
    {
      "cell_type": "code",
      "source": [
        "first_list = [2, 3, 4, 5, 6, 7, 8]\n",
        "second_list = [4, 9, 16, 25, 36, 49, 64]\n",
        "\n",
        "def function(list_1, list_2):\n",
        "    output = [None]*len(first_list)\n",
        "    for i in range(len(list_1)):\n",
        "            output[i] = (list_1[i], list_2[i])\n",
        "    return set(output)\n",
        "\n",
        "print(\"The output of solution 1 is\", function(first_list, second_list))\n",
        "\n",
        "# Solution 2: Zip function:\n",
        "result = zip(first_list, second_list)\n",
        "result_set = set(result)\n",
        "print('The output of solution 2 is:', result_set)"
      ],
      "metadata": {
        "colab": {
          "base_uri": "https://localhost:8080/"
        },
        "id": "ZZi9IBvi9gD8",
        "outputId": "27289192-0a06-4f12-e0a4-86e0983c3ab1"
      },
      "execution_count": null,
      "outputs": [
        {
          "output_type": "stream",
          "name": "stdout",
          "text": [
            "The output of solution 1 is {(7, 49), (2, 4), (4, 16), (8, 64), (6, 36), (3, 9), (5, 25)}\n",
            "The output of solution 2 is: {(7, 49), (2, 4), (4, 16), (8, 64), (6, 36), (3, 9), (5, 25)}\n"
          ]
        }
      ]
    },
    {
      "cell_type": "markdown",
      "source": [
        "Exercise 6: Find the intersection (common) of two sets and remove those elements from the first set"
      ],
      "metadata": {
        "id": "lAYMtl_OCkFe"
      }
    },
    {
      "cell_type": "code",
      "source": [
        "first_set = {23, 42, 65, 57, 78, 83, 29}\n",
        "second_set = {57, 83, 29, 67, 73, 43, 48}\n",
        "\n",
        "print(\"First Set \", first_set)\n",
        "print(\"Second Set \", second_set)\n",
        "\n",
        "def function(set_1, set_2):\n",
        "    intersection = set()\n",
        "    update_set_1 = set()\n",
        "    for item in set_1:\n",
        "        if item in set_2:\n",
        "            intersection.add(item)\n",
        "        else:\n",
        "            update_set_1.add(item)\n",
        "    return update_set_1, intersection\n",
        "\n",
        "sample_1 , intersection_ = function(first_set, second_set)\n",
        "print('Intersection is', intersection_)\n",
        "print('First set after removing common element:', sample_1)\n",
        "\n",
        "# Solution 2\n",
        "intersection = first_set.intersection(second_set)\n",
        "print(\"Intersection is \", intersection)\n",
        "for item in intersection:\n",
        "    first_set.remove(item)\n",
        "\n",
        "print(\"First Set after removing common element \", first_set)"
      ],
      "metadata": {
        "colab": {
          "base_uri": "https://localhost:8080/"
        },
        "id": "asyrEQ7FCoir",
        "outputId": "b48d5631-bb97-4e59-f2ba-68a41a0b0928"
      },
      "execution_count": null,
      "outputs": [
        {
          "output_type": "stream",
          "name": "stdout",
          "text": [
            "First Set  {65, 83, 23, 57, 42, 29, 78}\n",
            "Second Set  {48, 67, 83, 73, 43, 29, 57}\n",
            "Intersection is {57, 83, 29}\n",
            "First set after removing common element: {65, 42, 78, 23}\n",
            "Intersection is  {57, 83, 29}\n",
            "First Set after removing common element  {65, 23, 42, 78}\n"
          ]
        }
      ]
    },
    {
      "cell_type": "markdown",
      "source": [
        "Exercise 7: Checks if one set is a subset or superset of another set. If found, delete all elements from that set"
      ],
      "metadata": {
        "id": "caqAMgBN9tIw"
      }
    },
    {
      "cell_type": "code",
      "source": [
        "first_set = {27, 43, 34}\n",
        "second_set = {34, 93, 22, 27, 43, 53, 48}\n",
        "\n",
        "def function(firts_set, second_set):\n",
        "    if first_set.issubset(second_set):\n",
        "        first_set.clear()\n",
        "        print(\"First set is subset of second set - True\")\n",
        "        print(\"Second set is subset of first set - False\")\n",
        "        print(\"First set is Super set of second set - False\")\n",
        "        print(\"Second set is Super set of First set - True\")\n",
        "    elif second_set.issubset(first_set):\n",
        "        second_set.clear()\n",
        "        print(\"First set is subset of second set - False\")\n",
        "        print(\"Second set is subset of first set - True\")\n",
        "        print(\"First set is Super set of second set - True\")\n",
        "        print(\"Second set is Super set of First set - False\")\n",
        "    else:\n",
        "        pass\n",
        "    print(f\"First Set: {first_set} \\nSecond Set: {second_set}\")\n",
        "\n",
        "function(first_set, second_set)\n",
        "\n",
        "\n",
        "# Solution 2\n",
        "first_set = {57, 83, 29}\n",
        "second_set = {57, 83, 29, 67, 73, 43, 48}\n",
        "\n",
        "print(\"First Set \", first_set)\n",
        "print(\"Second Set \", second_set)\n",
        "\n",
        "print(\"First set is subset of second set -\", first_set.issubset(second_set))\n",
        "print(\"Second set is subset of First set - \", second_set.issubset(first_set))\n",
        "\n",
        "print(\"First set is Super set of second set - \", first_set.issuperset(second_set))\n",
        "print(\"Second set is Super set of First set - \", second_set.issuperset(first_set))\n",
        "\n",
        "if first_set.issubset(second_set):\n",
        "    first_set.clear()\n",
        "\n",
        "if second_set.issubset(first_set):\n",
        "    second_set.clear()\n",
        "\n",
        "print(\"First Set \", first_set)\n",
        "print(\"Second Set \", second_set)"
      ],
      "metadata": {
        "id": "X4qo6paO9wJR",
        "colab": {
          "base_uri": "https://localhost:8080/"
        },
        "outputId": "b522be48-79e4-4c49-c87f-35da5f1f5740"
      },
      "execution_count": 5,
      "outputs": [
        {
          "output_type": "stream",
          "name": "stdout",
          "text": [
            "First set is subset of second set - True\n",
            "Second set is subset of first set - False\n",
            "First set is Super set of second set - False\n",
            "Second set is Super set of First set - True\n",
            "First Set: set() \n",
            "Second Set: {48, 34, 53, 22, 27, 43, 93}\n",
            "First Set  {57, 83, 29}\n",
            "Second Set  {48, 67, 83, 73, 43, 29, 57}\n",
            "First set is subset of second set - True\n",
            "Second set is subset of First set -  False\n",
            "First set is Super set of second set -  False\n",
            "Second set is Super set of First set -  True\n",
            "First Set  set()\n",
            "Second Set  {48, 67, 83, 73, 43, 29, 57}\n"
          ]
        }
      ]
    },
    {
      "cell_type": "markdown",
      "source": [
        "Exercise 8: Iterate a given list and check if a given element exists as a key’s value in a dictionary. If not, delete it from the list"
      ],
      "metadata": {
        "id": "f_rmwipaesn2"
      }
    },
    {
      "cell_type": "code",
      "source": [
        "roll_number = [47, 64, 69, 37, 76, 83, 95, 97]\n",
        "sample_dict = {'John':47,\n",
        "               'Emma':69,\n",
        "               'Kelly':76,\n",
        "               'Jason':97}\n",
        "\n",
        "def function(sample_list, sample_dict):\n",
        "    final_list = []\n",
        "    for i in range(len(sample_list)):\n",
        "        if sample_list[i] in sample_dict.values():\n",
        "            final_list.append(sample_list[i])\n",
        "    print(f\"After removing unwanted elements from list {final_list}\")\n",
        "\n",
        "function(roll_number, sample_dict)\n",
        "\n",
        "# Solution 2: List comprehension\n",
        "roll_number = [47, 64, 69, 37, 76, 83, 95, 97]\n",
        "sample_dict = {'Jhon': 47, 'Emma': 69, 'Kelly': 76, 'Jason': 97}\n",
        "\n",
        "print(\"List:\", roll_number)\n",
        "print(\"Dictionary:\", sample_dict)\n",
        "\n",
        "# create new list\n",
        "roll_number[:] = [item for item in roll_number if item in sample_dict.values()]\n",
        "print(\"after removing unwanted elements from list:\", roll_number)"
      ],
      "metadata": {
        "colab": {
          "base_uri": "https://localhost:8080/"
        },
        "id": "iwvOWZPKesZm",
        "outputId": "9c711b31-9fc0-4c0c-9a11-546518b752d8"
      },
      "execution_count": 13,
      "outputs": [
        {
          "output_type": "stream",
          "name": "stdout",
          "text": [
            "After removing unwanted elements from list [47, 69, 76, 97]\n",
            "List: [47, 64, 69, 37, 76, 83, 95, 97]\n",
            "Dictionary: {'Jhon': 47, 'Emma': 69, 'Kelly': 76, 'Jason': 97}\n",
            "after removing unwanted elements from list: [47, 69, 76, 97]\n"
          ]
        }
      ]
    },
    {
      "cell_type": "markdown",
      "source": [
        "The list comprehension `[item for item in roll_number if item in sample_dict.values()]` iterates over each item in the roll_number list.\n",
        "if `item` in `sample_dict.values()` checks if the current `item` exists in the values of sample_dict.\n",
        "\n",
        "Filtered List:\n",
        "Only the items in `roll_number` that are also values in `sample_dict` are included in the new list.\n",
        "\n",
        "Updating roll_number:\n",
        "`roll_number[:] = [...]` updates the original roll_number list in place with the filtered list.\n",
        "The slice notation `[:]` ensures that the original list is modified rather than creating a new list."
      ],
      "metadata": {
        "id": "oL3j8ou4nJhd"
      }
    },
    {
      "cell_type": "markdown",
      "source": [
        "Exercise 9: Get all values from the dictionary and add them to a list but don’t add duplicates"
      ],
      "metadata": {
        "id": "MbRbXZEQo6Zs"
      }
    },
    {
      "cell_type": "code",
      "source": [
        "speed = {'jan': 47, 'feb': 52, 'march': 47, 'April': 44, 'May': 52, 'June': 53, 'july': 54, 'Aug': 44, 'Sept': 54}\n",
        "\n",
        "def function(sample_dict):\n",
        "    output = []\n",
        "    for i in sample_dict.values():\n",
        "        if i not in output:\n",
        "            output.append(i)\n",
        "    return output\n",
        "\n",
        "function(speed)"
      ],
      "metadata": {
        "colab": {
          "base_uri": "https://localhost:8080/"
        },
        "id": "AcluSwPio5M5",
        "outputId": "6df22b03-9b4c-4f50-8881-33db6ed65cfd"
      },
      "execution_count": 16,
      "outputs": [
        {
          "output_type": "execute_result",
          "data": {
            "text/plain": [
              "[47, 52, 44, 53, 54]"
            ]
          },
          "metadata": {},
          "execution_count": 16
        }
      ]
    },
    {
      "cell_type": "markdown",
      "source": [
        "Exercise 10: Remove duplicates from a list and create a tuple and find the minimum and maximum number"
      ],
      "metadata": {
        "id": "nemwRnzJpp9u"
      }
    },
    {
      "cell_type": "code",
      "source": [
        "sample_list = [87, 45, 41, 65, 94, 41, 99, 94]\n",
        "\n",
        "def function(sample_list):\n",
        "    output = []\n",
        "    for i in sample_list:\n",
        "        if i not in output:\n",
        "            output.append(i)\n",
        "    print(f\"tuple {tuple(output)} \\nmin:{min(output)} \\nmax:{max(output)}\")\n",
        "\n",
        "function(sample_list)"
      ],
      "metadata": {
        "colab": {
          "base_uri": "https://localhost:8080/"
        },
        "id": "0breZfP8psJe",
        "outputId": "a2e4f484-26d2-42c9-f065-53fa3606c8a6"
      },
      "execution_count": 22,
      "outputs": [
        {
          "output_type": "stream",
          "name": "stdout",
          "text": [
            "tuple (87, 45, 41, 65, 94, 99) \n",
            "min:41 \n",
            "max:99\n"
          ]
        }
      ]
    },
    {
      "cell_type": "markdown",
      "source": [
        "### Python Date and Time"
      ],
      "metadata": {
        "id": "ocZtk5uouEFG"
      }
    },
    {
      "cell_type": "markdown",
      "source": [
        "[Python Date and Time Exercise with Solutions](https://pynative.com/python-date-and-time-exercise/)"
      ],
      "metadata": {
        "id": "vArbHNx-uLlc"
      }
    },
    {
      "cell_type": "markdown",
      "source": [
        "Below is the list of standard libraries we can use to work with date and time.\n",
        "\n",
        "**datetime:** The datetime is a built-in module that provides functions to handle many complex functionalities involving the date and time. It has a date, time, timezone, and timedelta classes to work with date and time.\n",
        "\n",
        "**calendar:** In Python, a calendar is a built-in module to work with calendar-related activities and operations. In the calendar module, by default, Monday is the first day of the week, and Sunday is the last day of the week as per the Gregorian calendar.\n",
        "\n",
        "**time:** time module provides a different function to work with time-related activities where dates are not needed."
      ],
      "metadata": {
        "id": "Rbcslz23Deic"
      }
    },
    {
      "cell_type": "markdown",
      "source": [
        "Python provides the dir() function to list all attributes and functions of a module. Let's see the constants and classes of a datetime module.\n",
        "```\n",
        "import datetime\n",
        "print(dir(datetime))\n",
        "```\n",
        "**Date Class in DateTime**\n",
        "\n",
        "We can represent the date object using the date class and the date class initializes the native date. It always considers the Gregorian calendar. The constructor of the date class takes three parameters which include year, month, and day.\n",
        "Syntax to create a date object:\n",
        "\n",
        "`datetime.date(year, month, day)`\n",
        "\n",
        "The arguments should be in the following range :\n",
        "\n",
        "```\n",
        "MINYEAR <= year <= MAXYEAR\n",
        "1 <= month <= 12\n",
        "1 <= day <= number of days in the given month and year\n",
        "```\n",
        "\n",
        "If we pass an argument outside of given ranges, ValueError is raised.\n",
        "\n",
        "**Time Class**\n",
        "\n",
        "As you know, the datetime object contains both date and time. To work only with time, we can use the time class from the datetime module.\n",
        "\n",
        "To represent the local time, we can instantiate the time object from the time class. The arguments for time class are optional.\n",
        "\n",
        "Syntax to create a time object:\n",
        "\n",
        "`datetime.time(hour, minute, second, microsecond, tzinfo, *, fold)`\n",
        "\n",
        "The arguments should be in the following range:\n",
        "\n",
        "```\n",
        "0 <= hour < 24,\n",
        "0 <= minute < 60\n",
        "0 <= second < 60\n",
        "0 <= microsecond < 1000000\n",
        "fold in [0, 1]\n",
        "tzinfo is the timezone information.\n",
        "```\n",
        "\n",
        "If we pass an argument outside of given ranges, ValueError is raised.\n",
        "\n",
        "**Datetime Class**\n",
        "\n",
        "The datetime class contains information about both date and time. It Assumes the Gregorian Calendar and there are 360*24 seconds every day.\n",
        "\n",
        "`datetime.datetime(year, month, day, hour, minute=0, second, microsecond, tzinfo=None)`\n",
        "\n",
        "Arguments must be integers in the following ranges:\n",
        "\n",
        "```\n",
        "MINYEAR <= year <= MAXYEAR,\n",
        "1 <= month <= 12,\n",
        "1 <= day <= number of days in the given month and year,\n",
        "0 <= hour < 24,\n",
        "0 <= minute < 60,\n",
        "0 <= second < 60,\n",
        "0 <= microsecond < 1000000,\n",
        "fold in [0, 1].\n",
        "```\n",
        "If we pass an argument outside of given ranges, ValueError is raised.\n"
      ],
      "metadata": {
        "id": "YXlDAafvwhjh"
      }
    },
    {
      "cell_type": "markdown",
      "source": [
        "Exercise 1: Print current date and time in Python\n"
      ],
      "metadata": {
        "id": "HQjXSMtf3vBL"
      }
    },
    {
      "cell_type": "code",
      "source": [
        "from datetime import datetime\n",
        "\n",
        "print(f\"The date and time is {datetime.now()}\")\n",
        "print(f\"The time is {datetime.now().time()}\")\n",
        "\n",
        "# Solution 2\n",
        "from time import gmtime, strftime\n",
        "print(\"The date is\", strftime(\"%Y-%m-%d %H:%M:%S\", gmtime()))"
      ],
      "metadata": {
        "colab": {
          "base_uri": "https://localhost:8080/"
        },
        "id": "6oNIyZ9sUr1l",
        "outputId": "ad3747a7-b053-4bfc-f582-b86760ac67ca"
      },
      "execution_count": 35,
      "outputs": [
        {
          "output_type": "stream",
          "name": "stdout",
          "text": [
            "The date and time is 2024-05-29 03:13:51.590543\n",
            "The time is 03:13:51.590714\n",
            "The date is 2024-05-29 03:13:51\n"
          ]
        }
      ]
    },
    {
      "cell_type": "markdown",
      "source": [
        "[Python String to DateTime using strptime()](https://pynative.com/python-string-to-datetime-strptime/)\n",
        "\n",
        "**Convert String to DateTime in Python**\n",
        "\n",
        "n some cases, date and time could be passed as a string object. To convert a string into a datetime object, we can use the strptime() function of a datetime module.\n",
        "\n",
        "For example, you may need to convert a numerical string like 13-05-2021 to a datetime object. or you want to convert string representing dates like Monday, 13 May, 2021 to a datetime object.\n",
        "\n",
        "Use this step if you want to convert a string to a time object. Use the time.strptime(string[, format]) function. This function converts time in string format to a time object in time.struct_time format."
      ],
      "metadata": {
        "id": "b15RgwuRB6vs"
      }
    },
    {
      "cell_type": "markdown",
      "source": [
        "Exercise 2: Convert string into a datetime object\n"
      ],
      "metadata": {
        "id": "RNbyP1WlJdAT"
      }
    },
    {
      "cell_type": "code",
      "source": [
        "date_str = 'Feb 25 2020 4:20PM'\n",
        "date_object = datetime.strptime(date_str, '%b %d %Y %I:%M%p')\n",
        "print(date_object)"
      ],
      "metadata": {
        "colab": {
          "base_uri": "https://localhost:8080/"
        },
        "id": "n7rHX7_tu86N",
        "outputId": "d4df7193-7a92-4d37-e6fb-e68ea9f4c298"
      },
      "execution_count": 27,
      "outputs": [
        {
          "output_type": "stream",
          "name": "stdout",
          "text": [
            "2020-02-25 16:20:00\n"
          ]
        }
      ]
    },
    {
      "cell_type": "markdown",
      "source": [
        "Exercise 3: Subtract a week (7 days)  from a given date in Python\n"
      ],
      "metadata": {
        "id": "TVtrI8QRUVDO"
      }
    },
    {
      "cell_type": "code",
      "source": [
        "from datetime import datetime, timedelta\n",
        "\n",
        "given_date = datetime(2020, 2 ,27)\n",
        "days_to_subtract = 7\n",
        "\n",
        "prior_date = given_date - timedelta(days = days_to_subtract)\n",
        "prior_date = prior_date.strftime(\"%Y-%m-%d\")\n",
        "\n",
        "print(f\"The given data is {given_date}. \\nThe date after subtracting {days_to_subtract} is {prior_date}\")"
      ],
      "metadata": {
        "colab": {
          "base_uri": "https://localhost:8080/"
        },
        "id": "9Mjdt7SCUUf7",
        "outputId": "38093766-2bb2-4d6d-dadb-a47f8ea0c07c"
      },
      "execution_count": 42,
      "outputs": [
        {
          "output_type": "stream",
          "name": "stdout",
          "text": [
            "The given data is 2020-02-27 00:00:00. \n",
            "The date after subtracting 7 is 2020-02-20\n"
          ]
        }
      ]
    },
    {
      "cell_type": "markdown",
      "source": [
        "[Python DateTime Format Using Strftime()](https://pynative.com/python-datetime-format-strftime/)\n",
        "\n",
        "**strftime() Date Format Codes**\n",
        "\n",
        "Dates have a default representation, but you may want to print them in a specific format. In that case, you can get a custom string representation using the different format codes\n",
        "\n",
        "The strftime() uses some standard directives to represent a datetime in a string format. The same set of directives are shared between both the strptime() and strftime() methods.\n",
        "\n",
        "Below are the character codes to format the date and time:\n",
        "\n",
        "`%d`: Returns the day of the month, from 1 to 31.\n",
        "\n",
        "`%m`: Returns the month of the year, from 1 to 12.\n",
        "\n",
        "`%Y`: Returns the year in four-digit format (Year with century). like, 2021.\n",
        "\n",
        "`%y`: Reurns year in two-digit format (year without century). like, 19, 20, 21\n",
        "\n",
        "`%A`: Returns the full name of the weekday. Like, Monday, Tuesday\n",
        "\n",
        "`%a`: Returns the short name of the weekday (First three character.). Like, Mon, Tue\n",
        "\n",
        "`%B`: Returns the full name of the month. Like, June, March\n",
        "\n",
        "`%b`: Returns the short name of the month (First three character.). Like, Mar, Jun\n",
        "\n",
        "`%H`: Returns the hour. from 01 to 23.\n",
        "\n",
        "`%I`: Returns the hour in 12-hours format. from 01 to 12.\n",
        "\n",
        "`%M`: Returns the minute, from 00 to 59.\n",
        "\n",
        "`%S`: Returns the second, from 00 to 59.\n",
        "\n",
        "`%f`: Return the microseconds from 000000 to 999999\n",
        "\n",
        "`%p`: Return time in AM/PM format\n",
        "\n",
        "`%c`: Returns a locale’s appropriate date and time representation\n",
        "\n",
        "`%x`: Returns a locale’s appropriate date representation\n",
        "\n",
        "`%X`: Returns a locale’s appropriate time representation\n",
        "\n",
        "`%z`: Return the UTC offset in the form `±HHMM[SS[.ffffff]]` (empty string if the object is naive).\n",
        "\n",
        "`%Z`: Return the Time zone name (empty string if the object is naive).\n",
        "\n",
        "`%j`: Returns the day of the year from 01 to 366\n",
        "\n",
        "`%w`: Returns weekday as a decimal number, where 0 is Sunday and 6 is Saturday.\n",
        "\n",
        "`%U`: Returns the week number of the year (Sunday as the first day of the week) from 00 to 53\n",
        "\n",
        "`%W`: Returns the week number of the year (Monday as the first day of the week) from 00 to 53"
      ],
      "metadata": {
        "id": "Nx5DZviQ0BDU"
      }
    },
    {
      "cell_type": "markdown",
      "source": [
        "Exercise 4: Print a date in a the following format\n",
        "`Day_name  Day_number  Month_name  Year`"
      ],
      "metadata": {
        "id": "TI3HRBgHV0Uo"
      }
    },
    {
      "cell_type": "code",
      "source": [
        "from datetime import datetime\n",
        "given_date = datetime(2020, 2, 25)\n",
        "\n",
        "print(\"Given date is\")\n",
        "print(given_date.strftime('%A %d %B %Y'))"
      ],
      "metadata": {
        "colab": {
          "base_uri": "https://localhost:8080/"
        },
        "id": "THSje0xLnuMy",
        "outputId": "e28203c4-786d-45b5-c66c-532064b341a7"
      },
      "execution_count": 45,
      "outputs": [
        {
          "output_type": "stream",
          "name": "stdout",
          "text": [
            "Given date is\n",
            "Tuesday 25 February 2020\n"
          ]
        }
      ]
    },
    {
      "cell_type": "markdown",
      "source": [
        "Exercise 5: Find the day of the week of a given date"
      ],
      "metadata": {
        "id": "E_dp4ws8ntf3"
      }
    },
    {
      "cell_type": "code",
      "source": [
        "given_date = datetime(2020, 7, 26)\n",
        "day =  given_date.strftime('%A')\n",
        "print(f\"{given_date.strftime('%d-%m-%Y')} is {day}\")\n",
        "\n",
        "# Solution 2-Calender module\n",
        "import calendar\n",
        "weekday = calendar.day_name[given_date.weekday()]\n",
        "print(f\"{given_date.strftime('%d-%m-%Y')} is {weekday}\")"
      ],
      "metadata": {
        "colab": {
          "base_uri": "https://localhost:8080/"
        },
        "id": "6_Ml3QZp11_j",
        "outputId": "59b81c1e-cda8-4ea0-cbe9-c720254c6681"
      },
      "execution_count": 52,
      "outputs": [
        {
          "output_type": "stream",
          "name": "stdout",
          "text": [
            "26-07-2020 is Sunday\n",
            "26-07-2020 is Sunday\n"
          ]
        }
      ]
    },
    {
      "cell_type": "markdown",
      "source": [
        "Exercise 6: Add a week (7 days) and 12 hours to a given date"
      ],
      "metadata": {
        "id": "3TW63EXI11VQ"
      }
    },
    {
      "cell_type": "code",
      "source": [
        "given_date = datetime(2020, 3, 22, 10, 0, 0)\n",
        "next_date = given_date + timedelta(days=7, hours=12)\n",
        "\n",
        "print(f\"The new date is {next_date}\")"
      ],
      "metadata": {
        "colab": {
          "base_uri": "https://localhost:8080/"
        },
        "id": "Dqv4tA-y3e71",
        "outputId": "b369d501-5265-42b5-c2ca-f177ac73dbbf"
      },
      "execution_count": 54,
      "outputs": [
        {
          "output_type": "stream",
          "name": "stdout",
          "text": [
            "The new date is 2020-03-29 22:00:00\n"
          ]
        }
      ]
    },
    {
      "cell_type": "markdown",
      "source": [
        "Exercise 7: Print current time in milliseconds"
      ],
      "metadata": {
        "id": "PWamxx4-3fTq"
      }
    },
    {
      "cell_type": "code",
      "source": [
        "import time\n",
        "# The time.time() function can also be used to get the current time.\n",
        "milliseconds = int(round(time.time() * 1000))\n",
        "\n",
        "print(milliseconds)"
      ],
      "metadata": {
        "colab": {
          "base_uri": "https://localhost:8080/"
        },
        "id": "wPF_GvcO6IhA",
        "outputId": "09aa7ba3-ed9a-4c86-d4d7-b78fe6d11b37"
      },
      "execution_count": 61,
      "outputs": [
        {
          "output_type": "stream",
          "name": "stdout",
          "text": [
            "1716962420364\n"
          ]
        }
      ]
    },
    {
      "cell_type": "markdown",
      "source": [
        "Exercise 8: Convert the following datetime into a string\n",
        "```\n",
        "given_date = datetime(2020, 2, 25)\n",
        "```\n",
        "Expected output:\n",
        "```\n",
        "\"2020-02-25 00:00:00\"\n",
        "```\n",
        "\n",
        "\n"
      ],
      "metadata": {
        "id": "cPN26BXP6Hun"
      }
    },
    {
      "cell_type": "code",
      "source": [
        "given_date = datetime(2020, 2, 25)\n",
        "print(f\"The given date is {given_date.strftime('%Y-%m-%d %H:%M:%S')}\")"
      ],
      "metadata": {
        "colab": {
          "base_uri": "https://localhost:8080/"
        },
        "id": "zXTwVbfQ7kdL",
        "outputId": "2f2a4652-d1b3-45aa-cc8a-4b96c24cab23"
      },
      "execution_count": 62,
      "outputs": [
        {
          "output_type": "stream",
          "name": "stdout",
          "text": [
            "The given date is 2020-02-25 00:00:00\n"
          ]
        }
      ]
    },
    {
      "cell_type": "markdown",
      "source": [
        "Exercise 9: Calculate the date 4 months from the current date"
      ],
      "metadata": {
        "id": "bhjRIxgJ7jzs"
      }
    },
    {
      "cell_type": "code",
      "source": [
        "current_date = datetime(2020, 2, 25)\n",
        "next_date = current_date + timedelta(days = 4*30)\n",
        "next_date = next_date.strftime('%Y %m %d')\n",
        "\n",
        "print(f'The next date is {next_date}')\n",
        "print(\"This date doesn't consider varying number of days in months\")\n",
        "\n",
        "# Correct solutions\n",
        "from dateutil.relativedelta import relativedelta\n",
        "\n",
        "months_to_add = 4\n",
        "next_date = given_date + relativedelta(months =+ months_to_add)\n",
        "next_date = next_date.strftime('%Y %m %d')\n",
        "\n",
        "print(f'The correct next date is {next_date}')"
      ],
      "metadata": {
        "colab": {
          "base_uri": "https://localhost:8080/"
        },
        "id": "NVx9bPmS9toW",
        "outputId": "192dd505-f015-4a5b-b068-27c53830bc2a"
      },
      "execution_count": 76,
      "outputs": [
        {
          "output_type": "stream",
          "name": "stdout",
          "text": [
            "The next date is 2020 06 24\n",
            "This date doesn't consider varying number of days in months\n",
            "The correct next date is 2020 06 25\n"
          ]
        }
      ]
    },
    {
      "cell_type": "markdown",
      "source": [
        "Exercise 10: Calculate number of days between two given dates"
      ],
      "metadata": {
        "id": "a-VeBp9I9uDs"
      }
    },
    {
      "cell_type": "code",
      "source": [
        "date_1 = datetime(2020, 2, 25)\n",
        "date_2 = datetime(2020, 9, 17)\n",
        "\n",
        "delta = None\n",
        "\n",
        "if date_1 > date_2:\n",
        "    delta = date_1 - date_2\n",
        "else:\n",
        "    delta = date_2 - date_1\n",
        "print(f\"Difference is {delta.days} days.\")\n",
        "\n",
        "# Solution 2\n",
        "import numpy as np\n",
        "delta = np.abs(date_1 - date_2)\n",
        "print(f\"Difference is {delta.days} days.\")"
      ],
      "metadata": {
        "colab": {
          "base_uri": "https://localhost:8080/"
        },
        "id": "M6Ww8o0f7D-8",
        "outputId": "c57218c4-80f3-411b-8e11-97a7a9969e9b"
      },
      "execution_count": 79,
      "outputs": [
        {
          "output_type": "stream",
          "name": "stdout",
          "text": [
            "Difference is 205 days.\n",
            "Difference is 205 days.\n"
          ]
        }
      ]
    },
    {
      "cell_type": "markdown",
      "source": [
        "### Python Object-Oriented Programming (OOP)"
      ],
      "metadata": {
        "id": "uYd_jYw9u734"
      }
    },
    {
      "cell_type": "markdown",
      "source": [
        "[Python Object-Oriented Programming (OOP) Exercise: Classes and Objects Exercises](https://pynative.com/python-object-oriented-programming-oop-exercise/)"
      ],
      "metadata": {
        "id": "tNxS1F0GvO-B"
      }
    },
    {
      "cell_type": "markdown",
      "source": [
        "Python Object-oriented programming (OOP) is based on the concept of “objects,” which can contain data and code: data in the form of instance variables (often known as attributes or properties), and code, in the form method. I.e., Using OOP, we encapsulate related properties and behaviors into individual objects.\n",
        "\n",
        "Home » Python Exercises » Python Object-Oriented Programming (OOP) Exercise: Classes and Objects Exercises\n",
        "Python Object-Oriented Programming (OOP) Exercise: Classes and Objects Exercises\n",
        "Updated on: December 8, 2021 | 51 Comments\n",
        "\n",
        "This Object-Oriented Programming (OOP) exercise aims to help you to learn and practice OOP concepts. All questions are tested on Python 3.\n",
        "\n",
        "Python Object-oriented programming (OOP) is based on the concept of “objects,” which can contain data and code: data in the form of instance variables (often known as attributes or properties), and code, in the form method. I.e., Using OOP, we encapsulate related properties and behaviors into individual objects.\n",
        "\n",
        "What is included in this Python OOP exercise?\n",
        "\n",
        "This OOP classes and objects exercise includes 8 different programs, questions, and challenges. All solutions are tested on Python 3.\n",
        "\n",
        "\n",
        "This OOP exercise covers questions on the following topics:\n",
        "*   Class and Object creation\n",
        "*   Instance variables and Methods, and Class level attributes\n",
        "*   Model systems with class inheritance i.e., inherit From Other Classes\n",
        "*   Parent Classes and Child Classes\n",
        "*   Extend the functionality of Parent Classes using Child class\n",
        "*   Object checking"
      ],
      "metadata": {
        "id": "Q1D9trqBDyOK"
      }
    },
    {
      "cell_type": "markdown",
      "source": [
        "OOP Exercise 1: Create a Class with instance attributes"
      ],
      "metadata": {
        "id": "xpEFYMDaEn5U"
      }
    },
    {
      "cell_type": "code",
      "source": [],
      "metadata": {
        "id": "jwrJspckEDDC"
      },
      "execution_count": null,
      "outputs": []
    },
    {
      "cell_type": "markdown",
      "source": [
        "OOP Exercise 2: Create a Vehicle class without any variables and methods\n",
        "OOP Exercise 3: Create a child class Bus that will inherit all of the variables and methods of the Vehicle class\n",
        "OOP Exercise 4: Class Inheritance\n",
        "OOP Exercise 5: Define a property that must have the same value for every class instance (object)\n",
        "OOP Exercise 6: Class Inheritance\n",
        "OOP Exercise 7: Check type of an object\n",
        "OOP Exercise 8: Determine if School_bus is also an instance of the Vehicle class"
      ],
      "metadata": {
        "id": "bCFRm4vqEqmB"
      }
    },
    {
      "cell_type": "code",
      "source": [],
      "metadata": {
        "id": "WyRr7Zr_vaYB"
      },
      "execution_count": null,
      "outputs": []
    },
    {
      "cell_type": "markdown",
      "source": [
        "### Python random Data generation"
      ],
      "metadata": {
        "id": "zt-mCLEdE8hw"
      }
    },
    {
      "cell_type": "markdown",
      "source": [
        "[Python random Data generation Exercise](https://pynative.com/python-random-number-generation-exercise-questions-and-challenge/)"
      ],
      "metadata": {
        "id": "0CPKW5a5FCEl"
      }
    },
    {
      "cell_type": "code",
      "source": [],
      "metadata": {
        "id": "rSoFrpl8E-az"
      },
      "execution_count": null,
      "outputs": []
    },
    {
      "cell_type": "markdown",
      "source": [
        "### Python NumPy"
      ],
      "metadata": {
        "id": "aFI-HStVvazJ"
      }
    },
    {
      "cell_type": "markdown",
      "source": [
        "[Python NumPy Exercise](https://pynative.com/python-numpy-exercise/)"
      ],
      "metadata": {
        "id": "xEjn8mcFwBjo"
      }
    },
    {
      "cell_type": "code",
      "source": [],
      "metadata": {
        "id": "wZIMrYv7wFYV"
      },
      "execution_count": null,
      "outputs": []
    },
    {
      "cell_type": "markdown",
      "source": [
        "### Python Pandas"
      ],
      "metadata": {
        "id": "8fMfXf_uwFxL"
      }
    },
    {
      "cell_type": "markdown",
      "source": [
        "[Python Pandas Exercise](https://pynative.com/python-pandas-exercise/)"
      ],
      "metadata": {
        "id": "njmKyp4wwMUW"
      }
    },
    {
      "cell_type": "code",
      "source": [],
      "metadata": {
        "id": "CzXhm79MwQF0"
      },
      "execution_count": null,
      "outputs": []
    },
    {
      "cell_type": "markdown",
      "source": [
        "### Python JSON"
      ],
      "metadata": {
        "id": "5i0K45GEwQvZ"
      }
    },
    {
      "cell_type": "markdown",
      "source": [
        "[Python JSON Exercise](https://pynative.com/python-json-exercise/)"
      ],
      "metadata": {
        "id": "oBHPIrEUwU5s"
      }
    },
    {
      "cell_type": "code",
      "source": [],
      "metadata": {
        "id": "gwtGZulIwX0z"
      },
      "execution_count": null,
      "outputs": []
    },
    {
      "cell_type": "markdown",
      "source": [
        "### Python Matplotlib"
      ],
      "metadata": {
        "id": "GEzK17yEwYVI"
      }
    },
    {
      "cell_type": "markdown",
      "source": [
        "[Python Matplotlib Exercise](https://pynative.com/python-matplotlib-exercise/)"
      ],
      "metadata": {
        "id": "y9MoPXTjwbI7"
      }
    },
    {
      "cell_type": "code",
      "source": [],
      "metadata": {
        "id": "-Anc7w3nwhen"
      },
      "execution_count": null,
      "outputs": []
    },
    {
      "cell_type": "markdown",
      "source": [],
      "metadata": {
        "id": "AQPpzMtXwv43"
      }
    },
    {
      "cell_type": "code",
      "source": [],
      "metadata": {
        "id": "4nToUuoQwz9i"
      },
      "execution_count": null,
      "outputs": []
    },
    {
      "cell_type": "markdown",
      "source": [
        "### Python Database Programming"
      ],
      "metadata": {
        "id": "gRiGLyEOw2rr"
      }
    },
    {
      "cell_type": "markdown",
      "source": [
        "[Python Database Programming Exercise](https://pynative.com/python-database-programming-exercise-with-solution/)"
      ],
      "metadata": {
        "id": "5tSFUm8lw4z4"
      }
    },
    {
      "cell_type": "code",
      "source": [],
      "metadata": {
        "id": "fNhgit7rw7tT"
      },
      "execution_count": null,
      "outputs": []
    },
    {
      "cell_type": "markdown",
      "source": [
        "### Exercises for Intermediate developers"
      ],
      "metadata": {
        "id": "huSJ_zbhxRex"
      }
    },
    {
      "cell_type": "markdown",
      "source": [
        "[Exercises for Intermediate developers](https://pynative.com/python-exercises-with-solutions/) (Scroll down)"
      ],
      "metadata": {
        "id": "yOlUZg1Mxnbh"
      }
    },
    {
      "cell_type": "code",
      "source": [],
      "metadata": {
        "id": "vpUKDkmUxwRT"
      },
      "execution_count": null,
      "outputs": []
    },
    {
      "cell_type": "markdown",
      "source": [
        "### Useful Python Tips and Tricks Every Programmer Should Know"
      ],
      "metadata": {
        "id": "2RQ5_wBBx0cI"
      }
    },
    {
      "cell_type": "markdown",
      "source": [
        "[Useful Python Tips and Tricks Every Programmer Should Know](https://pynative.com/useful-python-tips-and-tricks-every-programmer-should-know/)"
      ],
      "metadata": {
        "id": "zxjatQGxx10g"
      }
    },
    {
      "cell_type": "code",
      "source": [],
      "metadata": {
        "id": "DYEXp9zvx4wQ"
      },
      "execution_count": null,
      "outputs": []
    }
  ]
}